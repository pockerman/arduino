{
 "cells": [
  {
   "cell_type": "markdown",
   "metadata": {},
   "source": [
    "# Item: Introduction to Arduino"
   ]
  },
  {
   "cell_type": "markdown",
   "metadata": {},
   "source": [
    "#### References"
   ]
  },
  {
   "cell_type": "markdown",
   "metadata": {},
   "source": [
    "1. **Arduino:** https://www.arduino.cc/\n",
    "2. **Rasberry Pi:** https://en.wikipedia.org/wiki/Raspberry_Pi\n",
    "3. **BeagleBoard:** https://en.wikipedia.org/wiki/BeagleBoard\n",
    "4. **NodeMCU:** https://en.wikipedia.org/wiki/NodeMCU"
   ]
  },
  {
   "cell_type": "markdown",
   "metadata": {},
   "source": [
    "Arduino is an awesome tool and why so many people use it in their digital manufacturing projects. Here are some reasons why this is the case"
   ]
  },
  {
   "cell_type": "markdown",
   "metadata": {},
   "source": [
    "- it's open-source: the source code and electronic diagrams of Arduino software and hardware are open-source. This means that you can understand how an Arduino works, duplicate it, modify it, adapt it and then integrate it into any kind of project without paying anyone to use the software."
   ]
  },
  {
   "cell_type": "markdown",
   "metadata": {},
   "source": [
    "- it's well documented: the use of all the code which can be used with Arduino are detailed in an online reference"
   ]
  },
  {
   "cell_type": "markdown",
   "metadata": {},
   "source": [
    "- it's relatively inexpensive: the price of an official classic Arduino (called Arduino UNO) is about 20€ TTC."
   ]
  },
  {
   "cell_type": "markdown",
   "metadata": {},
   "source": [
    "- it's used by a large community: this is probably the most important. The growing number of people using this platform is an undeniable asset. Thanks to the power of the Internet, it is possible to find documentation and tutorials of what others have used Arduino for, such as smart objects for your home, smart clothing, art Installations..."
   ]
  },
  {
   "cell_type": "markdown",
   "metadata": {},
   "source": [
    "---\n",
    "\n",
    "**REMARK**\n",
    "\n",
    "Alternatives to Arduino do exist. Checkout for example: Rasberry Pi, BeagleBoard, and NodeMCU\n",
    "\n",
    "---"
   ]
  },
  {
   "cell_type": "markdown",
   "metadata": {},
   "source": [
    "## The Arduino Ecosystem"
   ]
  },
  {
   "cell_type": "markdown",
   "metadata": {},
   "source": [
    "The Arduino ecosystme consists of a family of boards that can be used to make electronic assemblies. There are of course different sizes, see the images below, and colors and each has different features: "
   ]
  },
  {
   "cell_type": "markdown",
   "metadata": {},
   "source": [
    "<figure>\n",
    "<img src=\"img/arduino_uno.jpg\"/>\n",
    "<caption>**Fig:** Arduino UNO board</caption>\n",
    "</figure>"
   ]
  },
  {
   "cell_type": "markdown",
   "metadata": {},
   "source": [
    "<figure>\n",
    "<img src=\"img/arduino_nano.jpg\"/>\n",
    "<caption>**Fig:** Arduino Nano board</caption>\n",
    "</figure>"
   ]
  },
  {
   "cell_type": "markdown",
   "metadata": {},
   "source": [
    "Arduinos are programmable. We can program them via the Arduino IDE. The Arduino IDE allows us to send instructions to the board. The programming language used by the Arduino boards is C/C++ . Also the IDE  allows us to upload code to the Arduino board via USB. Installing the Arduino IDE is failr easy chech <a href=\"https://learn.sparkfun.com/tutorials/installing-arduino-ide\">here</a> for how-to."
   ]
  },
  {
   "cell_type": "markdown",
   "metadata": {},
   "source": [
    "<figure>\n",
    "<img src=\"img/arduino_pin_map.png\"/>\n",
    "<caption>**Fig:** Arduino UNO pin map.</caption>\n",
    "</figure>"
   ]
  },
  {
   "cell_type": "markdown",
   "metadata": {},
   "source": [
    "As we will see, the pins 0 and 1 (also called Rx and Tx) can be used to communicate with the computer. We therefore recommend that you do not use these pins to connect your LEDs, but instead focus on the numbered pins from 2 to 13."
   ]
  },
  {
   "cell_type": "code",
   "execution_count": null,
   "metadata": {
    "collapsed": true
   },
   "outputs": [],
   "source": []
  }
 ],
 "metadata": {
  "kernelspec": {
   "display_name": "Python 3",
   "language": "python",
   "name": "python3"
  },
  "language_info": {
   "codemirror_mode": {
    "name": "ipython",
    "version": 3
   },
   "file_extension": ".py",
   "mimetype": "text/x-python",
   "name": "python",
   "nbconvert_exporter": "python",
   "pygments_lexer": "ipython3",
   "version": "3.5.2"
  }
 },
 "nbformat": 4,
 "nbformat_minor": 2
}
