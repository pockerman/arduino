{
 "cells": [
  {
   "cell_type": "markdown",
   "metadata": {
    "deletable": true,
    "editable": true
   },
   "source": [
    "# Item: Basic Laws of Electricity 1"
   ]
  },
  {
   "cell_type": "markdown",
   "metadata": {
    "deletable": true,
    "editable": true
   },
   "source": [
    "#### References"
   ]
  },
  {
   "cell_type": "markdown",
   "metadata": {},
   "source": [
    "1. **Voltage:** https://en.wikipedia.org/wiki/Voltage\n",
    "2. **Electric Current:** https://en.wikipedia.org/wiki/Electric_current\n",
    "3. **Electrical Resistance:** https://en.wikipedia.org/wiki/Electrical_resistance_and_conductance\n",
    "4. **Ohm's Law:** https://en.wikipedia.org/wiki/Ohm%27s_law"
   ]
  },
  {
   "cell_type": "markdown",
   "metadata": {
    "collapsed": true,
    "deletable": true,
    "editable": true
   },
   "source": [
    "This item is a reminder of basic laws on electricity. "
   ]
  },
  {
   "cell_type": "markdown",
   "metadata": {},
   "source": [
    "### Current"
   ]
  },
  {
   "cell_type": "markdown",
   "metadata": {},
   "source": [
    "Every electrical circuit, large or small, simple or complex, deals with a current of electrons that is circulating around in a loop. The magnitude or intensity of this electric current $(I)$ is measured with the unit Ampères $(A)$. "
   ]
  },
  {
   "cell_type": "markdown",
   "metadata": {},
   "source": [
    "### Voltage"
   ]
  },
  {
   "cell_type": "markdown",
   "metadata": {},
   "source": [
    "To make electrons circulate through a circuit, you need a driving force let's say. In electricity, this force is called voltage $(V)$. The voltage is measured and expressed in Volts $(V)$.  "
   ]
  },
  {
   "cell_type": "markdown",
   "metadata": {},
   "source": [
    "To visualise the difference between current and voltage, we can use an analogy of flowing water. The current of an electric circuit is like the quantity of water in a pipe. The voltage is like the water pressure. For a given pipe, the higher the pressure, the greater the flow of the water. Electricity is similar: the more the voltage increases, the greater the energy being delivered"
   ]
  },
  {
   "cell_type": "markdown",
   "metadata": {},
   "source": [
    "### Electrical Resistance"
   ]
  },
  {
   "cell_type": "markdown",
   "metadata": {},
   "source": [
    "Staying with our water in a pipe analogy, we can look at another electrical quantity: resistance $(R)$. For water, the friction between the liquid and the inside surface of the pipe acts to slow down the flow. All other things being equal, this friction-resistance becomes more significant the narrower the pipe, and the longer the pipe. And if we increase the pressure too much, the pipe breaks."
   ]
  },
  {
   "cell_type": "markdown",
   "metadata": {},
   "source": [
    "Electrical resistance is similar. The resistance $(R)$ is measured and expressed in Ohms $(\\Omega)$. Everything has a resistance – copper wire has a very low resistance but it’s still there. The smaller the diameter of the wire, the more resistance there is. The longer the wire, the more resistance there is. You may have already seen this in practice: if you try to pass too much current through a small electrical wire, the wire melts. Indeed, this is how a fuse works."
   ]
  },
  {
   "cell_type": "markdown",
   "metadata": {},
   "source": [
    "### Ohm's Law"
   ]
  },
  {
   "cell_type": "markdown",
   "metadata": {},
   "source": [
    "The voltage, the current  and the resistance (ohms) are linked by a law of electricity known as Ohm's law. The law is expressed in a very simple formula:"
   ]
  },
  {
   "cell_type": "markdown",
   "metadata": {},
   "source": [
    "$$V = IR$$"
   ]
  },
  {
   "cell_type": "markdown",
   "metadata": {},
   "source": [
    "Because of this law, we will have to protect a LED with a resistance of between 200$\\Omega$ and 1$k\\Omega$. "
   ]
  }
 ],
 "metadata": {
  "kernelspec": {
   "display_name": "Python 3",
   "language": "python",
   "name": "python3"
  },
  "language_info": {
   "codemirror_mode": {
    "name": "ipython",
    "version": 3
   },
   "file_extension": ".py",
   "mimetype": "text/x-python",
   "name": "python",
   "nbconvert_exporter": "python",
   "pygments_lexer": "ipython3",
   "version": "3.5.2"
  }
 },
 "nbformat": 4,
 "nbformat_minor": 2
}
