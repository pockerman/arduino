{
 "cells": [
  {
   "cell_type": "markdown",
   "metadata": {
    "deletable": true,
    "editable": true
   },
   "source": [
    "# Analog And Digital Ports"
   ]
  },
  {
   "cell_type": "markdown",
   "metadata": {},
   "source": [
    "#### References"
   ]
  },
  {
   "cell_type": "markdown",
   "metadata": {},
   "source": [
    "1. **Analog Signal:** https://en.wikipedia.org/wiki/Analog_signal\n",
    "2. **Digital Signal:** https://en.wikipedia.org/wiki/Digital_signal"
   ]
  },
  {
   "cell_type": "markdown",
   "metadata": {
    "deletable": true,
    "editable": true
   },
   "source": [
    "The\tArduino\tUNO\tboard\thas\tports\ton\tits\tsides.\tThey\tare\tconnections that allow the board to\tinteract with\tsensors, actuators,\tand\tother\tdevices even with another Arduino board. The board\talso\thas\tports that support\tdigital\tand\tanalog signals. "
   ]
  },
  {
   "cell_type": "markdown",
   "metadata": {},
   "source": [
    "An analog signal is any continuous signal for which the time varying feature (variable) of the signal is a representation of some other time varying quantity, i.e., analogous to another time varying signal. For example, in an analog audio signal, the instantaneous voltage of the signal varies continuously with the pressure of the sound waves. It differs from a digital signal, in which the continuous quantity is a representation of a sequence of discrete values which can only take on one of a finite number of values. The term analog signal usually refers to electrical signals; however, mechanical, pneumatic, hydraulic, human speech, and other systems may also convey or be considered analog signals."
   ]
  },
  {
   "cell_type": "markdown",
   "metadata": {},
   "source": [
    "Analog signals for our case can be explained as voltages that have a continuously varying value. For example from 2V to 3.3V. Analog signals are signals that we measure every time we measure a continuously varying variable. For example if we want to measure the temperature of a room, the temperature measure takes values with decimals and thus we need an analog signal. Otherwise we will loose data. The process of converting analog signals to digital ones is called discretization.\t"
   ]
  },
  {
   "cell_type": "markdown",
   "metadata": {},
   "source": [
    "**REMARK: The Arduino UNO ports have a range of values vetween 0 and 1023 to describe an analog input signal. Ports marked with PWD (standing for pulse-width-modulation) or with a tilded ```(~)``` can create output signals that vary between 0 and 255.**"
   ]
  },
  {
   "cell_type": "markdown",
   "metadata": {},
   "source": [
    "A digital signal is a signal that is being used to represent data as a sequence of discrete values; at any given time it can only take on one of a finite number of values. This contrasts with an analog signal, which represents continuous values; at any given time it represents a real number within a continuous range of values."
   ]
  },
  {
   "cell_type": "markdown",
   "metadata": {},
   "source": [
    "In most digital circuits, the signal can have two possible values; this is called a binary signal or logic signal. They are represented by two voltage bands: one near a reference value (typically termed as ground or zero volts), and the other a value near the supply voltage. These correspond to the two values _zero_ and _one_ (or _false_ and _true_) of the Boolean domain, so at any given time a binary signal represents one binary digit (bit). Because of this discretization, relatively small changes to the analog signal levels do not leave the discrete envelope, and as a result are ignored by signal state sensing circuitry."
   ]
  },
  {
   "cell_type": "markdown",
   "metadata": {},
   "source": [
    "**REMARK: Many electronic devices internally have a range where voltage values from 3.5V to 5V are considered as the logic 1 and voltages from 0V to 2.5V are considered as a logic 0.**"
   ]
  }
 ],
 "metadata": {
  "kernelspec": {
   "display_name": "Python 3",
   "language": "python",
   "name": "python3"
  },
  "language_info": {
   "codemirror_mode": {
    "name": "ipython",
    "version": 3
   },
   "file_extension": ".py",
   "mimetype": "text/x-python",
   "name": "python",
   "nbconvert_exporter": "python",
   "pygments_lexer": "ipython3",
   "version": "3.5.2"
  }
 },
 "nbformat": 4,
 "nbformat_minor": 2
}
