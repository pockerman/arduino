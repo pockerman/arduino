{
 "cells": [
  {
   "cell_type": "markdown",
   "metadata": {},
   "source": [
    "# Item: Using the TinkerCad Circuit Simulator"
   ]
  },
  {
   "cell_type": "markdown",
   "metadata": {},
   "source": [
    "#### References"
   ]
  },
  {
   "cell_type": "markdown",
   "metadata": {},
   "source": [
    "1. **TinkerCad Circuit:** https://www.tinkercad.com/circuits"
   ]
  },
  {
   "cell_type": "markdown",
   "metadata": {},
   "source": [
    "This simulator, called  TinkerCad Circuit, is provided by the company Autodesk. If you do not want to use a real Arduino for now, follow the tutorial below. "
   ]
  },
  {
   "cell_type": "markdown",
   "metadata": {},
   "source": [
    "First create an account on the <a href=\"https://accounts.autodesk.com/register\">Autodesk</a> website.  We recommend the Chrome browser, which can provide the full function of the simulator."
   ]
  },
  {
   "cell_type": "markdown",
   "metadata": {},
   "source": [
    "Go to TinkerCad Circuit. Once you’ve logged in with your Autodesk details, you should have access to this page: "
   ]
  },
  {
   "cell_type": "markdown",
   "metadata": {},
   "source": [
    "To create a new timeline, click on the _Launch TinkerCad Circuits_ button"
   ]
  },
  {
   "cell_type": "markdown",
   "metadata": {},
   "source": [
    "Once the simulator loads, here are the different possible actions in the simulator"
   ]
  },
  {
   "cell_type": "markdown",
   "metadata": {},
   "source": [
    "<figure>\n",
    "<img src=\"img/sim.png\"/>\n",
    "<caption>**Fig:** TinkerCad simulator</caption>\n",
    "</figure>"
   ]
  },
  {
   "cell_type": "markdown",
   "metadata": {},
   "source": [
    "To send instructions to Arduino, click on it and then on Code editor."
   ]
  },
  {
   "cell_type": "markdown",
   "metadata": {},
   "source": [
    "Copy the following code and paste into the editor:"
   ]
  },
  {
   "cell_type": "markdown",
   "metadata": {},
   "source": [
    "```\n",
    "/*\n",
    "  Blink\n",
    "  Light the LED for 1 second,\n",
    "  then turn it off for 1 second.\n",
    "*/\n",
    " \n",
    "// Number of the pin connected to the LED:\n",
    "int led = 13;\n",
    " \n",
    "// the function runs once when you press reset or power the board\n",
    "void setup() {\n",
    "// initialize digital pin 'led' as an output.\n",
    "  pinMode(led, OUTPUT);\n",
    "}\n",
    " \n",
    "// this code runs over and over again as long as there is power\n",
    "void loop() {\n",
    "  digitalWrite(led, HIGH);   // light LED (send 5V to the pin)\n",
    "  delay(1000);               // wait 1000ms = 1s\n",
    "  digitalWrite(led, LOW);    // turn off LED (0V to the pin)\n",
    "  delay(1000);               // wait another second\n",
    "}\n",
    "```"
   ]
  },
  {
   "cell_type": "markdown",
   "metadata": {},
   "source": [
    "Finally, add a LED on pin 13, by dragging it from the right directly onto the pins 13 and GND on the Arduino:"
   ]
  },
  {
   "cell_type": "markdown",
   "metadata": {},
   "source": [
    "Click “Start Simulation” in the top right. Joy and jubilation - our Virtual LED flashes! We’re going to cover how the code and electronics works in the following sections."
   ]
  }
 ],
 "metadata": {
  "kernelspec": {
   "display_name": "Python 3",
   "language": "python",
   "name": "python3"
  },
  "language_info": {
   "codemirror_mode": {
    "name": "ipython",
    "version": 3
   },
   "file_extension": ".py",
   "mimetype": "text/x-python",
   "name": "python",
   "nbconvert_exporter": "python",
   "pygments_lexer": "ipython3",
   "version": "3.5.2"
  }
 },
 "nbformat": 4,
 "nbformat_minor": 2
}
