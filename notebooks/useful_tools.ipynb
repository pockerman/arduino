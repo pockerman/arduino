{
 "cells": [
  {
   "cell_type": "markdown",
   "metadata": {},
   "source": [
    "# Item: Useful Tools"
   ]
  },
  {
   "cell_type": "markdown",
   "metadata": {},
   "source": [
    "#### References"
   ]
  },
  {
   "cell_type": "markdown",
   "metadata": {},
   "source": [
    "1. **Oscilloscope:** https://en.wikipedia.org/wiki/Oscilloscope\n",
    "2. **Voltmeter:** https://en.wikipedia.org/wiki/Voltmeter"
   ]
  },
  {
   "cell_type": "markdown",
   "metadata": {},
   "source": [
    "This item presents some useful tools needed when dealing with electronis. "
   ]
  },
  {
   "cell_type": "markdown",
   "metadata": {},
   "source": [
    "### Oscilloscope"
   ]
  },
  {
   "cell_type": "markdown",
   "metadata": {},
   "source": [
    "An oscilloscope is a type of electronic test instrument that allows observation of varying signal voltages, usually as a two-dimensional plot of one or more signals as a function of time. Other signals (such as sound or vibration) can be converted to voltages and displayed. The rendering curve of an oscilloscope is called an oscillogram.\n",
    "\n",
    "Analog oscilloscopes use a direct input voltage (multiplied up or down) to produce spot deviation, and digital oscilloscopes transform the input voltage into a digital signal before it gets processed. In this case, the visualization of the signal is usually performed by a computer connected to the oscilloscope [1]."
   ]
  },
  {
   "cell_type": "markdown",
   "metadata": {},
   "source": [
    "### Voltmeter"
   ]
  },
  {
   "cell_type": "markdown",
   "metadata": {},
   "source": [
    "The voltmeter is a device that makes it possible to measure the voltage (or electrical potential difference) between two points, whose unit of measurement is volt $(V)$. "
   ]
  },
  {
   "cell_type": "markdown",
   "metadata": {},
   "source": [
    "The vast majority of current measuring instruments are built around a digital voltmeter, the physical quantity to be measured being converted into voltage using a suitable sensor. This is the case of the digital multimeter which, in addition to offering the voltmeter function, includes at least one current-voltage converter to operate as an ammeter, and a constant current generator to operate as an Ohmmeter [2]."
   ]
  },
  {
   "cell_type": "markdown",
   "metadata": {},
   "source": [
    "<figure>\n",
    "<img src=\"img/multimetre-voltmetre-amperemetre.jpg\" width=\"300px;\"/>\n",
    "<caption>**Fig:** Multimeter</caption>\n",
    "</figure>"
   ]
  },
  {
   "cell_type": "markdown",
   "metadata": {},
   "source": [
    "### Solder"
   ]
  },
  {
   "cell_type": "markdown",
   "metadata": {},
   "source": [
    "When our installation is complete and functional we may want to fix the components in place by mounting them on a dedicated board. If you cannot make your own printed circuit boards and/or do not want to spend a lot of money to make them, you can still solder your components onto \"hole plates\" (also called protoboard or veroboard)."
   ]
  },
  {
   "cell_type": "markdown",
   "metadata": {},
   "source": [
    "For electronics work, an iron of thirty watts will be enough. It must be able to heat between 300 and 400 degrees Celcius. If you want the solder to melt. Obviously, there are soldering irons available at many price points, ranging from the simple iron for \\$10 to an adjustable station that can cost more than \\$100. Choose according to your means and your needs, but keep in mind that the cheapest will heat slowly or hardly reach a sufficient temperature. In general, we do not recommend \"pistol\" type irons. The soldering iron is pretty useless on its own; you'll have to buy some solder (an alloy of tin and copper). Solder may or may not contain lead: lead makes it easier to solder, but must be used in a ventilated space because the vapor is bad for your body. A desoldering wick or desoldering pump (solder sucker) can also be useful but is not essential."
   ]
  },
  {
   "cell_type": "markdown",
   "metadata": {},
   "source": [
    "<figure>\n",
    "<img src=\"img/574px-Loetstation_Weller_WTCP-S.jpg\" width=\"300px;\"/>\n",
    "<caption>**Fig:** Soldering equipment</caption>\n",
    "</figure>"
   ]
  }
 ],
 "metadata": {
  "kernelspec": {
   "display_name": "Python 3",
   "language": "python",
   "name": "python3"
  },
  "language_info": {
   "codemirror_mode": {
    "name": "ipython",
    "version": 3
   },
   "file_extension": ".py",
   "mimetype": "text/x-python",
   "name": "python",
   "nbconvert_exporter": "python",
   "pygments_lexer": "ipython3",
   "version": "3.5.2"
  }
 },
 "nbformat": 4,
 "nbformat_minor": 2
}
