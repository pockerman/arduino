{
 "cells": [
  {
   "cell_type": "markdown",
   "metadata": {},
   "source": [
    "# Item: Breadboards"
   ]
  },
  {
   "cell_type": "markdown",
   "metadata": {},
   "source": [
    "#### References"
   ]
  },
  {
   "cell_type": "markdown",
   "metadata": {},
   "source": [
    "1. **Breadboard:** https://en.wikipedia.org/wiki/Breadboard\n"
   ]
  },
  {
   "cell_type": "markdown",
   "metadata": {},
   "source": [
    "## The Principle of a Breadboard"
   ]
  },
  {
   "cell_type": "markdown",
   "metadata": {},
   "source": [
    "Of course, the board is full of holes, but many of them are connected electrically. Here is a quick diagram that will help us understand."
   ]
  },
  {
   "cell_type": "markdown",
   "metadata": {},
   "source": [
    "<figure>\n",
    "<img src=\"img/breadboard.png\"/>\n",
    "<caption>**Fig:** Breadboard</caption>\n",
    "</figure>"
   ]
  },
  {
   "cell_type": "markdown",
   "metadata": {},
   "source": [
    "As you can see from the picture, a breadboard has various areas. The red and black areas correspond to the power lines. Often there are two vertical lines like these that allow you to connect your components to the necessary power supplies. By convention, the black represents ground at 0V, and red, the power supply (in this case, +5V). Usually, all the holes in the same horizontal line are connected to this area. So, you have a power line running the length of the board."
   ]
  },
  {
   "cell_type": "markdown",
   "metadata": {},
   "source": [
    "Then you can see areas in blue. These areas are linked together by connectors underneath the plastic in a vertical column. All the holes in the same column are connected to each other. However, each column is separate from the others. By overlapping components across multiple columns, you can connect them to each other."
   ]
  },
  {
   "cell_type": "markdown",
   "metadata": {},
   "source": [
    "Finally, you may notice a space that cuts the board in half symmetrically. This space also cuts the connection of the columns. Thus, in the above picture, you can see that each column has 5 holes that are connected. The space in the middle is standardized and is the width of the standard integrated circuits (IC’s). By placing an integrated circuit in the middle, across the space in the middle, each leg lines up with its own section of a column, which you can then connect other things to."
   ]
  }
 ],
 "metadata": {
  "kernelspec": {
   "display_name": "Python 3",
   "language": "python",
   "name": "python3"
  },
  "language_info": {
   "codemirror_mode": {
    "name": "ipython",
    "version": 3
   },
   "file_extension": ".py",
   "mimetype": "text/x-python",
   "name": "python",
   "nbconvert_exporter": "python",
   "pygments_lexer": "ipython3",
   "version": "3.5.2"
  }
 },
 "nbformat": 4,
 "nbformat_minor": 2
}
