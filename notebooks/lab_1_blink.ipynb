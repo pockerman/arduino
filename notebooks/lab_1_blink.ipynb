{
 "cells": [
  {
   "cell_type": "markdown",
   "metadata": {},
   "source": [
    "# Item: Lab1 Blink"
   ]
  },
  {
   "cell_type": "markdown",
   "metadata": {},
   "source": [
    "#### References"
   ]
  },
  {
   "cell_type": "markdown",
   "metadata": {},
   "source": [
    "This is our first program and you can view it as Hello World program.  Every Arduino comes with a LED installed usually connected on pin 13. Our  program will switch this LED on and off, once every second. The source code for this example is shown below and can actually be found in the examples that come with Arduino IDE."
   ]
  },
  {
   "cell_type": "markdown",
   "metadata": {},
   "source": [
    "```\n",
    "/*\n",
    "  Blink\n",
    "  Turns on an LED on for one second, then off for one second, repeatedly.\n",
    "\n",
    "  Most Arduinos have an on-board LED you can control. On the Uno and\n",
    "  Leonardo, it is attached to digital pin 13. If you're unsure what\n",
    "  pin the on-board LED is connected to on your Arduino model, check\n",
    "  the documentation at http://www.arduino.cc\n",
    "\n",
    "  This example code is in the public domain.\n",
    "\n",
    "  modified 8 May 2014\n",
    "  by Scott Fitzgerald\n",
    " */\n",
    "\n",
    "\n",
    "// the setup function runs once when you press reset or power the board\n",
    "void setup() {\n",
    "  // initialize digital pin 13 as an output.\n",
    "  pinMode(13, OUTPUT);\n",
    "}\n",
    "\n",
    "// the loop function runs over and over again forever\n",
    "void loop() {\n",
    "  digitalWrite(13, HIGH);   // turn the LED on (HIGH is the voltage level)\n",
    "  delay(1000);              // wait for a second\n",
    "  digitalWrite(13, LOW);    // turn the LED off by making the voltage LOW\n",
    "  delay(1000);              // wait for a second\n",
    "}\n",
    "```"
   ]
  },
  {
   "cell_type": "markdown",
   "metadata": {},
   "source": [
    "Connect the Arduino board with the PC and upload the code. Once this is done you will see the LED flashing on and off. "
   ]
  },
  {
   "cell_type": "markdown",
   "metadata": {},
   "source": [
    "---\n",
    "**REMARK**\n",
    "\n",
    "Do not unplug the Arduino board whilst the IDE uploads the program on the board. Wait until this is finished. You will get an indication that this is indeed the case in the left bottom corner of the IDE.\n",
    "\n",
    "---"
   ]
  },
  {
   "cell_type": "markdown",
   "metadata": {},
   "source": [
    "This program introduced five functions from the Arduino library namely"
   ]
  },
  {
   "cell_type": "markdown",
   "metadata": {},
   "source": [
    "- ```void setup()```"
   ]
  },
  {
   "cell_type": "markdown",
   "metadata": {},
   "source": [
    "- ```void loop()```"
   ]
  },
  {
   "cell_type": "markdown",
   "metadata": {},
   "source": [
    "- ```pinMode(arg1, arg2)```"
   ]
  },
  {
   "cell_type": "markdown",
   "metadata": {},
   "source": [
    "- ```digitalWrite(arg1, arg2)```"
   ]
  },
  {
   "cell_type": "markdown",
   "metadata": {},
   "source": [
    "- ```delay(ms)```"
   ]
  },
  {
   "cell_type": "markdown",
   "metadata": {},
   "source": [
    "The first two functions must be present for every Arduino program. The ```setup()``` function is executed only once when the program starts whilst the ```loop()``` implements the logic of our program which is executed continuously as long as there is power supply. The third function, ```pinMode``` is used to indicate how the pin with id the one specified as the first argument is meant to act. We have two options here namely ```INPUT``` or ```OUTPUT```. The fourth function,  ```digitalWrite()```, is used to control how the pin with id given as the first argument behaves. Finally, the ```delay(ms)``` function does what its name suggets put the program in  a hault for the specified duration in milliseconds. "
   ]
  },
  {
   "cell_type": "code",
   "execution_count": null,
   "metadata": {
    "collapsed": true
   },
   "outputs": [],
   "source": []
  }
 ],
 "metadata": {
  "kernelspec": {
   "display_name": "Python 3",
   "language": "python",
   "name": "python3"
  },
  "language_info": {
   "codemirror_mode": {
    "name": "ipython",
    "version": 3
   },
   "file_extension": ".py",
   "mimetype": "text/x-python",
   "name": "python",
   "nbconvert_exporter": "python",
   "pygments_lexer": "ipython3",
   "version": "3.5.2"
  }
 },
 "nbformat": 4,
 "nbformat_minor": 2
}
