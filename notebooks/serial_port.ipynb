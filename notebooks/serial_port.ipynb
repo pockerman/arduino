{
 "cells": [
  {
   "cell_type": "markdown",
   "metadata": {},
   "source": [
    "# The Serial Port "
   ]
  },
  {
   "cell_type": "markdown",
   "metadata": {},
   "source": [
    "## Using Python To Communicate With Arduino"
   ]
  },
  {
   "cell_type": "markdown",
   "metadata": {},
   "source": [
    "The standard way to communicate with Arduino is the Serial port. Here is how a hellow world can be written"
   ]
  },
  {
   "cell_type": "markdown",
   "metadata": {},
   "source": [
    "```\n",
    "void setup(){\n",
    "\n",
    "    //Opens the serial port\n",
    "    Serial.begin(9600);\n",
    "}\n",
    "\n",
    "void loop(){\n",
    "    \n",
    "    //wait 1sec = 1000 millisec\n",
    "    delay(1000);\n",
    "    \n",
    "    //Print hell\n",
    "    Serial.print(\"Hello Arduino\\n\");\n",
    "\n",
    "}\n",
    "```"
   ]
  },
  {
   "cell_type": "markdown",
   "metadata": {},
   "source": [
    "Another way is to use Python and in particular ```PySerial```. The following snipper shows you how to receive messages from the same serial port"
   ]
  },
  {
   "cell_type": "markdown",
   "metadata": {},
   "source": [
    "```\n",
    "from time import sleep\n",
    "import serial\n",
    "port = serial.Serial('YOUR_PORT',9600)\n",
    "\n",
    "while True:\n",
    "    print(port.readline())\n",
    "    sleep(0.2)\n",
    "```"
   ]
  }
 ],
 "metadata": {
  "kernelspec": {
   "display_name": "Python 3",
   "language": "python",
   "name": "python3"
  },
  "language_info": {
   "codemirror_mode": {
    "name": "ipython",
    "version": 3
   },
   "file_extension": ".py",
   "mimetype": "text/x-python",
   "name": "python",
   "nbconvert_exporter": "python",
   "pygments_lexer": "ipython3",
   "version": "3.5.2"
  }
 },
 "nbformat": 4,
 "nbformat_minor": 2
}
