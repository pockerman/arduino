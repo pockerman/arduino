{
 "cells": [
  {
   "cell_type": "markdown",
   "metadata": {
    "deletable": true,
    "editable": true
   },
   "source": [
    "# Using the TMP36 temperature sensor"
   ]
  },
  {
   "cell_type": "markdown",
   "metadata": {
    "deletable": true,
    "editable": true
   },
   "source": [
    "#### References"
   ]
  },
  {
   "cell_type": "markdown",
   "metadata": {
    "deletable": true,
    "editable": true
   },
   "source": [
    "1. **TMP36 Data Sheet:** http://www.analog.com/media/en/technical-documentation/data-sheets/TMP35_36_37.pdf\n",
    "2. **Arduino Sketch:** https://github.com/UpperFrameworks/arduino/blob/master/TMP36_sensor_I/TMP36_sensor_I.ino"
   ]
  },
  {
   "cell_type": "markdown",
   "metadata": {
    "deletable": true,
    "editable": true
   },
   "source": [
    "Often we need to know the temperature of a room. We can use Arduino and a temperature sensor to do this. \n",
    "In this section we will use the TMP36 sensor which is a low voltage temperature sensor. The image below shows the sensor "
   ]
  },
  {
   "cell_type": "markdown",
   "metadata": {
    "deletable": true,
    "editable": true
   },
   "source": [
    "<figure>\n",
    "<img src=\"img/tmp36.jpg\" width=\"300px\"/>\n",
    "<caption>**Fig:** The TMP36 sensor</caption> \n",
    "</figure>"
   ]
  },
  {
   "cell_type": "markdown",
   "metadata": {
    "deletable": true,
    "editable": true
   },
   "source": [
    "The sketch itself, shown below, is very easy to understand. One thing to notice though is the following. We feed 5V to the sensor and it returns values between 0 and 1023. We need to convert to voltages. This is done using the following formula:"
   ]
  },
  {
   "cell_type": "markdown",
   "metadata": {
    "deletable": true,
    "editable": true
   },
   "source": [
    "$$\\text{Voltage} = \\text{Sensor value}\\times (5/1024)$$"
   ]
  },
  {
   "cell_type": "markdown",
   "metadata": {
    "deletable": true,
    "editable": true
   },
   "source": [
    "Once we obtain the value in volts, we convert the measurement in degrees Celcious. We use the following formula"
   ]
  },
  {
   "cell_type": "markdown",
   "metadata": {
    "deletable": true,
    "editable": true
   },
   "source": [
    "$$\\text{Celcius} = (V-0.5) \\times 100.0$$"
   ]
  },
  {
   "cell_type": "markdown",
   "metadata": {
    "deletable": true,
    "editable": true
   },
   "source": [
    "### Arduino Sketch"
   ]
  },
  {
   "cell_type": "markdown",
   "metadata": {
    "deletable": true,
    "editable": true
   },
   "source": [
    "```\n",
    "/**\n",
    " * Sketch for elementary use of a TMP36 \n",
    " * temperature sensor\n",
    " */\n",
    " \n",
    " \n",
    "void  do_print(const char*  text, float  value);\n",
    "\n",
    "float to_voltage(int value){\n",
    "\n",
    "  return 5.0*(value/1024.0);\n",
    "}\n",
    "\n",
    "float voltage_to_temp_C(float V){\n",
    "\n",
    "  return 100.0*(V -0.5);\n",
    "}\n",
    "\n",
    "void setup() {\n",
    "  Serial.begin(9600);\n",
    "}\n",
    "\n",
    "void loop() {\n",
    "\n",
    "  //analog read\n",
    "  const int output = analogRead(A3);\n",
    "  float output_to_vol = to_voltage(output);\n",
    "  float vol_to_temp = voltage_to_temp_C(output_to_vol);\n",
    "  \n",
    "  Serial.print(\"________________________\\n\");\n",
    "  do_print(\"Output pf the sensor: \",output);\n",
    "  do_print(\"Conversion to voltage: \",output_to_vol);\n",
    "  do_print(\"Conversion to temperature: \",vol_to_temp);\n",
    "  delay(1000);\n",
    "\n",
    "}\n",
    "\n",
    "void  do_print(const char*  text, float  value){\n",
    "\n",
    "  Serial.print(text);\n",
    "  Serial.print(\"\\t\");\n",
    "  Serial.print(value);\n",
    "  Serial.print(\"\\n\");\n",
    "}\n",
    "```"
   ]
  },
  {
   "cell_type": "code",
   "execution_count": null,
   "metadata": {
    "collapsed": true,
    "deletable": true,
    "editable": true
   },
   "outputs": [],
   "source": []
  }
 ],
 "metadata": {
  "kernelspec": {
   "display_name": "Python 3",
   "language": "python",
   "name": "python3"
  },
  "language_info": {
   "codemirror_mode": {
    "name": "ipython",
    "version": 3
   },
   "file_extension": ".py",
   "mimetype": "text/x-python",
   "name": "python",
   "nbconvert_exporter": "python",
   "pygments_lexer": "ipython3",
   "version": "3.5.2"
  }
 },
 "nbformat": 4,
 "nbformat_minor": 2
}
