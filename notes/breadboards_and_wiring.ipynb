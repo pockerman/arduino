{
 "cells": [
  {
   "cell_type": "markdown",
   "metadata": {},
   "source": [
    "# Breadboards And Wiring"
   ]
  },
  {
   "cell_type": "markdown",
   "metadata": {},
   "source": [
    "Breadboards\thelp eliminate\tthe\tneed\tto\tuse\tsoldering\twhile\ttesting\tout\tcomponents\tand\tprototype\tcircuit\n",
    "schematics,\tit\tlets\tus\treuse\tcomponents,\tenables\trapid\tdevelopment,\tand\tallows\tus\tto\n",
    "correct\tmistakes\tand\teven\timprove\tthe\tcircuit\tdesign.\t"
   ]
  },
  {
   "cell_type": "markdown",
   "metadata": {},
   "source": [
    "The\tProtoBoard\tis\tshown\tin\tthe\tpreceding\timage;\twe\tcan\tsee\tthere\tare\tmainly\ttwo\tareas\t-\n",
    "the\tvertical\tcolumns\t(lines\tthat\tbegin\twith\tthe\t+\tand\t-\tpolarity\tsign),\tand\tthe\tcentral\trows\n",
    "(with\ta\tcoordinate\tsystem\tof\tletters\tand\tnumbers).\tBoth\t+\tand\t-\tusually\tconnect\tto\tthe\n",
    "electrical\tsupply\tof\tour\tcircuit\tand\tto\tthe\tground.\tIt\tis\tadvised\tnot\tto\tconnect\tcomponents\n",
    "directly\tin\tthe\tvertical\tcolumns,\tinstead\tto\tuse\ta\twire\tto\tconnect\tto\tthe\tcentral\trows\tof\tthe\n",
    "breadboard.\tThe\tcentral\trow\tnumber\tcorresponds\tto\ta\tunique\ttrack.\tIf\twe\tconnected\tone\n",
    "of\tthe\tleads\tof\ta\tresistor\tin\tthe\tfirst\tpin\tof\tthe\tfirst\trow\tthen\tother\tlead\tshould\tbe\tconnected\n",
    "to\tany\tother\tpin\tin\tanother\trow,\tand\tnot\tin\tthe\tsame\trow"
   ]
  }
 ],
 "metadata": {
  "kernelspec": {
   "display_name": "Python 3",
   "language": "python",
   "name": "python3"
  },
  "language_info": {
   "codemirror_mode": {
    "name": "ipython",
    "version": 3
   },
   "file_extension": ".py",
   "mimetype": "text/x-python",
   "name": "python",
   "nbconvert_exporter": "python",
   "pygments_lexer": "ipython3",
   "version": "3.5.2"
  }
 },
 "nbformat": 4,
 "nbformat_minor": 2
}
